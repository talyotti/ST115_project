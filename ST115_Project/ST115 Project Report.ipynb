{
 "cells": [
  {
   "cell_type": "markdown",
   "id": "ee537f12",
   "metadata": {},
   "source": [
    "# Analysis on LSE Professors' Research Interests\n",
    "\n",
    "## Table of Contents"
   ]
  },
  {
   "cell_type": "code",
   "execution_count": null,
   "id": "88eea41c",
   "metadata": {},
   "outputs": [],
   "source": []
  },
  {
   "cell_type": "markdown",
   "id": "e539c6a5",
   "metadata": {},
   "source": [
    "## Introduction\n",
    "\n",
    "### Our Motivation\n",
    "As undergraduate students in LSE who are taking modules across multiples departments like Statistics, Mathematics, Economics, Finance and the Data Science Institute, we observed that many topics in different modules intersect. This inspired us to think about how different departments in LSE can integrate their knowledges and interest by collaborating on research. Our goal is to encourage professors to use an interdiciplinary approach in their research, which would let them use a variety of methods and perspectives to gain a more comprehensive insight on complex problems. \n",
    "\n",
    "To be able to quantify this, we chose some variables to be able to analyse the problem in a standardised and comparable basis. Going through LSE's website, we noticed that for each department, every professor has their own webpage. We picked eight departments, which we thought are more similar in terms of their subjects, and then scraped the chosen variables to put them in a dataframe and conduct our analysis.\n",
    "\n",
    "### Research Questions \n",
    "The main aim of the project is to create recommendations to the LSE professors for potential research collaborations. \n",
    "\n",
    "**Q1: Which departments have the highest potential for collaboration?**\n",
    "- Based on the number of topics shared between them. \n",
    "- Based on the percentage of professors that share those interests. \n",
    "\n",
    "**Q2: Which topics have the most diverse backgrounds of professors interested in it?**\n",
    "- Count the most popular topics with the most number of unique departments interested in it.\n",
    "\n",
    "**Q3: Descriptives**\n",
    "- Which topics are the most popular across all department (top 10)\n",
    "- Which topics are the most popular within each department (top 5)\n",
    "\n",
    "\n",
    "### Data Description\n",
    "From the [LSE Departments and Institutes website](https://info.lse.ac.uk/staff/departments-and-institutes) website, we chose the following departments to work with:\n",
    "- Statistics\n",
    "- Mathematics\n",
    "- Finance\n",
    "- Accounting\n",
    "- Management\n",
    "- Economics\n",
    "- Data Science Institute\n",
    "- Methodology\n",
    "\n",
    "The data used in our project is directly taken from the websites in the form https://www.lse.ac.uk/{department}/people/{professor_name}, where the department and professor name differ for each case.\n",
    "\n",
    "## Data Acquisition\n",
    "\n",
    "- For the first four departments in the list above, we used the **Selenium** library to automate web browsers to do the following:\n",
    "\n",
    "From the [LSE Departments and Institutes website](https://info.lse.ac.uk/staff/departments-and-institutes) website, the department is clicked and then the \"People\" section is opened, leading to the page with the url https://www.lse.ac.uk/{department_name}/People. After that, the dropdown menu button called \"Academic Faculty\" (or another wording of it) is clicked and then all the professors' website links taken from the link-texts are stored in a list.\n",
    "\n",
    "- For the last four departments short-cut method is followed using only **Beautiful Soup**:\n",
    "\n",
    "From the webpage https://www.lse.ac.uk/{department_name}/People, the div of the \"Academic Faculty\" section is found and again the urls for each professors' website is put in a list.\n",
    "\n",
    "- The following steps for all departments uses the library **Beautiful Soup**:\n",
    "\n",
    "Finally all the links in that list are clicked one-by-one in a loop and the following variables are scraped:\n",
    "\n",
    "- professor names\n",
    "- professor titles / prefixes\n",
    "- languages they speak\n",
    "- modules they are teaching\n",
    "- key expertise\n",
    "\n",
    "The data scraped are first put in Python dictionaries and then converted to Pandas DataFrames. Finally the dataframe is turned to seperate **csv files** and stored in the \"data\" file in the \"ST115_Project\" folder.\n",
    "\n",
    "## Data Preparation\n",
    "\n",
    "### Merging\n",
    "\n",
    "### Cleaning\n",
    "\n",
    "\n",
    "\n"
   ]
  },
  {
   "cell_type": "markdown",
   "id": "5859f243",
   "metadata": {},
   "source": []
  },
  {
   "cell_type": "code",
   "execution_count": null,
   "id": "460a2c38",
   "metadata": {},
   "outputs": [],
   "source": []
  },
  {
   "cell_type": "code",
   "execution_count": null,
   "id": "a94896d0",
   "metadata": {},
   "outputs": [],
   "source": []
  },
  {
   "cell_type": "code",
   "execution_count": null,
   "id": "56dceb71",
   "metadata": {},
   "outputs": [],
   "source": []
  },
  {
   "cell_type": "code",
   "execution_count": null,
   "id": "2d80f71d",
   "metadata": {},
   "outputs": [],
   "source": []
  },
  {
   "cell_type": "code",
   "execution_count": null,
   "id": "21529ac6",
   "metadata": {},
   "outputs": [],
   "source": []
  },
  {
   "cell_type": "code",
   "execution_count": null,
   "id": "98e227f2",
   "metadata": {},
   "outputs": [],
   "source": []
  }
 ],
 "metadata": {
  "kernelspec": {
   "display_name": "Python 3 (ipykernel)",
   "language": "python",
   "name": "python3"
  },
  "language_info": {
   "codemirror_mode": {
    "name": "ipython",
    "version": 3
   },
   "file_extension": ".py",
   "mimetype": "text/x-python",
   "name": "python",
   "nbconvert_exporter": "python",
   "pygments_lexer": "ipython3",
   "version": "3.7.1"
  }
 },
 "nbformat": 4,
 "nbformat_minor": 5
}
