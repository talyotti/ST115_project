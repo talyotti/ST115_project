{
 "cells": [
  {
   "cell_type": "markdown",
   "id": "ee537f12",
   "metadata": {},
   "source": [
    "# Analysis on LSE Professors' Research Interests\n",
    "\n",
    "## Table of Contents"
   ]
  },
  {
   "cell_type": "code",
   "execution_count": null,
   "id": "e7e12e71",
   "metadata": {},
   "outputs": [],
   "source": []
  },
  {
   "cell_type": "markdown",
   "id": "fdc92c20",
   "metadata": {},
   "source": [
    "## Introduction\n",
    "\n",
    "### Our Motivation\n",
    "As undergraduate students in LSE who are taking modules across multiples departments like Statistics, Mathematics, Economics, Finance and the Data Science Institute, we observed that many topics in different modules intersect. This inspired us to think about how different departments in LSE can integrate their knowledges and interest by collaborating on research. Our goal is to encourage professors to use an interdiciplinary approach in their research, which would let them use a variety of methods and perspectives to gain a more comprehensive insight on complex problems. \n",
    "\n",
    "To be able to quantify this, we chose some variables to be able to analyse the problem in a standardised and comparable basis. Going through LSE's website, we noticed that for each department, every professor has their own webpage. We picked eight departments, which we thought are more similar in terms of their subjects, and then scraped the chosen variables to put them in a dataframe and conduct our analysis.\n",
    "\n",
    "### Research Questions \n",
    "The main aim of the project is to create recommendations to the LSE professors for potential research collaborations. \n",
    "\n",
    "**Q1: Which departments have the highest potential for collaboration?**\n",
    "- Based on the number of topics shared between them. \n",
    "- Based on the number of professors that share those interests. \n",
    "\n",
    "**Q2: Which topics have the most diverse backgrounds of professors interested in it?**\n",
    "- Count the most popular topics with the most number of unique departments interested in it.\n",
    "\n",
    "**Q3: Descriptives**\n",
    "- Which topics are the most popular across all department (top 10)\n",
    "- Which topics are the most popular within each department (top 5)\n",
    "\n",
    "\n",
    "### Data Description\n",
    "From the [LSE Departments and Institutes website](https://info.lse.ac.uk/staff/departments-and-institutes) website, we chose the following departments to work with:\n",
    "- Statistics\n",
    "- Mathematics\n",
    "- Finance\n",
    "- Accounting\n",
    "- Management\n",
    "- Economics\n",
    "- Data Science Institute\n",
    "- Methodology\n",
    "\n",
    "The data used in our project is directly taken from the websites in the form https://www.lse.ac.uk/{department}/people/{professor_name}, where the department and professor name differ for each case."
   ]
  },
  {
   "cell_type": "markdown",
   "id": "96ff3934",
   "metadata": {},
   "source": [
    "## Data Acquisition\n",
    "\n",
    "- For the first four departments in the list above, we used the **Selenium** library to automate web browsers to do the following:\n",
    "\n",
    "From the [LSE Departments and Institutes website](https://info.lse.ac.uk/staff/departments-and-institutes) website, the department is clicked and then the \"People\" section is opened, leading to the page with the url https://www.lse.ac.uk/{department_name}/People. After that, the dropdown menu button called \"Academic Faculty\" (or another wording of it) is clicked and then all the professors' website links taken from the link-texts are stored in a list.\n",
    "\n"
   ]
  },
  {
   "cell_type": "markdown",
   "id": "650ff378",
   "metadata": {},
   "source": [
    "Run the following code to see the above process for Department of Accounting:"
   ]
  },
  {
   "cell_type": "code",
   "execution_count": null,
   "id": "cb05cadd",
   "metadata": {},
   "outputs": [],
   "source": [
    "from selenium import webdriver\n",
    "from selenium.webdriver.common.by import By\n",
    "from selenium.webdriver.support.ui import WebDriverWait\n",
    "from selenium.webdriver.support import expected_conditions as EC\n",
    "\n",
    "# Set up the web driver\n",
    "driver = webdriver.Chrome()\n",
    "driver.get(\"https://info.lse.ac.uk/Staff/Departments-and-Institutes\")\n",
    "\n",
    "# Find and click the department\n",
    "department = WebDriverWait(driver, 15).until(EC.element_to_be_clickable((By.LINK_TEXT, 'Department of Accounting')))\n",
    "driver.execute_script(\"arguments[0].scrollIntoView();\", department)\n",
    "department.click()\n",
    "\n",
    "# Find and click \"People\"\n",
    "people = WebDriverWait(driver, 15).until(EC.element_to_be_clickable((By.LINK_TEXT, 'People')))\n",
    "people.click()\n",
    "people_url = driver.current_url\n",
    "\n",
    "# Find and click \"Academic Faculty\"\n",
    "academic_faculty = WebDriverWait(driver, 15).until(EC.element_to_be_clickable((By.LINK_TEXT, 'Academic Faculty')))\n",
    "driver.execute_script(\"arguments[0].scrollIntoView();\", academic_faculty)\n",
    "academic_faculty.click()"
   ]
  },
  {
   "cell_type": "markdown",
   "id": "5859f243",
   "metadata": {},
   "source": [
    "- For the last four departments short-cut method is followed using only **Beautiful Soup**:\n",
    "\n",
    "From the webpage https://www.lse.ac.uk/{department_name}/People, the div of the \"Academic Faculty\" section is found and again the urls for each professors' website is put in a list.\n",
    "\n",
    "- The following steps for all departments uses the library **Beautiful Soup**:\n",
    "\n",
    "Finally all the links in that list are clicked one-by-one in a loop and the following variables are scraped:\n",
    "\n",
    "- professor names\n",
    "- professor titles / prefixes\n",
    "- languages they speak\n",
    "- modules they are teaching\n",
    "- key expertise\n",
    "\n",
    "The data scraped are first put in Python dictionaries and then converted to Pandas DataFrames. Finally the dataframe is turned to seperate **csv files** and stored in the \"data\" file in the \"ST115_Project\" folder. The codes for these processes can be found in the **\"Data Acquisition\"** notebook.\n",
    "\n",
    "example for accounting department:"
   ]
  },
  {
   "cell_type": "code",
   "execution_count": 5,
   "id": "909c5d84",
   "metadata": {},
   "outputs": [
    {
     "data": {
      "text/html": [
       "<div>\n",
       "<style scoped>\n",
       "    .dataframe tbody tr th:only-of-type {\n",
       "        vertical-align: middle;\n",
       "    }\n",
       "\n",
       "    .dataframe tbody tr th {\n",
       "        vertical-align: top;\n",
       "    }\n",
       "\n",
       "    .dataframe thead th {\n",
       "        text-align: right;\n",
       "    }\n",
       "</style>\n",
       "<table border=\"1\" class=\"dataframe\">\n",
       "  <thead>\n",
       "    <tr style=\"text-align: right;\">\n",
       "      <th></th>\n",
       "      <th>Unnamed: 0</th>\n",
       "      <th>Professor Name</th>\n",
       "      <th>Professor Prefix</th>\n",
       "      <th>Key Expertise</th>\n",
       "      <th>Languages</th>\n",
       "      <th>Title</th>\n",
       "      <th>Modules</th>\n",
       "    </tr>\n",
       "  </thead>\n",
       "  <tbody>\n",
       "    <tr>\n",
       "      <th>0</th>\n",
       "      <td>0</td>\n",
       "      <td>Dr Per  Ahblom</td>\n",
       "      <td>Dr</td>\n",
       "      <td>Accounting &amp; Finance Social Studies, Capital M...</td>\n",
       "      <td>English, Swedish</td>\n",
       "      <td>Assistant Professor of Accounting</td>\n",
       "      <td>['AC200 Accounting Theory and Practice (Curren...</td>\n",
       "    </tr>\n",
       "    <tr>\n",
       "      <th>1</th>\n",
       "      <td>1</td>\n",
       "      <td>Alnoor  Bhimani</td>\n",
       "      <td>Professor</td>\n",
       "      <td>Accounting, Management Accounting, Tech Entrep...</td>\n",
       "      <td>English</td>\n",
       "      <td>Professor of Management Accounting</td>\n",
       "      <td>['AC490 Management Accounting, Decisions and C...</td>\n",
       "    </tr>\n",
       "    <tr>\n",
       "      <th>2</th>\n",
       "      <td>2</td>\n",
       "      <td>Dr Jose Carabias Palmei</td>\n",
       "      <td>Dr</td>\n",
       "      <td>Accounting, Financial Statements Analysis, Ass...</td>\n",
       "      <td>English</td>\n",
       "      <td>Assistant Professor of Accounting</td>\n",
       "      <td>['AC330 Financial Accounting, Analysis and Val...</td>\n",
       "    </tr>\n",
       "    <tr>\n",
       "      <th>3</th>\n",
       "      <td>3</td>\n",
       "      <td>Dr Stefano  Cascin</td>\n",
       "      <td>Dr</td>\n",
       "      <td>Disclosure Regulation, Business Groups, Credit...</td>\n",
       "      <td>English, Italian</td>\n",
       "      <td>Associate Professor of Accounting</td>\n",
       "      <td>['AC332 Financial Statement, Analysis and Valu...</td>\n",
       "    </tr>\n",
       "    <tr>\n",
       "      <th>4</th>\n",
       "      <td>4</td>\n",
       "      <td>Dr Maria Correia</td>\n",
       "      <td>Dr</td>\n",
       "      <td>Credit Markets, Default Prediction, Business G...</td>\n",
       "      <td>English</td>\n",
       "      <td>Associate Professor of Accounting</td>\n",
       "      <td>['AC416 Topics in Financial Reporting']</td>\n",
       "    </tr>\n",
       "  </tbody>\n",
       "</table>\n",
       "</div>"
      ],
      "text/plain": [
       "   Unnamed: 0           Professor Name Professor Prefix  \\\n",
       "0           0           Dr Per  Ahblom               Dr   \n",
       "1           1          Alnoor  Bhimani        Professor   \n",
       "2           2  Dr Jose Carabias Palmei               Dr   \n",
       "3           3       Dr Stefano  Cascin               Dr   \n",
       "4           4         Dr Maria Correia               Dr   \n",
       "\n",
       "                                       Key Expertise         Languages  \\\n",
       "0  Accounting & Finance Social Studies, Capital M...  English, Swedish   \n",
       "1  Accounting, Management Accounting, Tech Entrep...           English   \n",
       "2  Accounting, Financial Statements Analysis, Ass...           English   \n",
       "3  Disclosure Regulation, Business Groups, Credit...  English, Italian   \n",
       "4  Credit Markets, Default Prediction, Business G...           English   \n",
       "\n",
       "                                Title  \\\n",
       "0   Assistant Professor of Accounting   \n",
       "1  Professor of Management Accounting   \n",
       "2   Assistant Professor of Accounting   \n",
       "3   Associate Professor of Accounting   \n",
       "4   Associate Professor of Accounting   \n",
       "\n",
       "                                             Modules  \n",
       "0  ['AC200 Accounting Theory and Practice (Curren...  \n",
       "1  ['AC490 Management Accounting, Decisions and C...  \n",
       "2  ['AC330 Financial Accounting, Analysis and Val...  \n",
       "3  ['AC332 Financial Statement, Analysis and Valu...  \n",
       "4            ['AC416 Topics in Financial Reporting']  "
      ]
     },
     "execution_count": 5,
     "metadata": {},
     "output_type": "execute_result"
    }
   ],
   "source": [
    "import pandas as pd\n",
    "df = pd.read_csv('accounting.csv')\n",
    "df.head()"
   ]
  },
  {
   "cell_type": "markdown",
   "id": "c220870f",
   "metadata": {},
   "source": [
    "## Data Preparation"
   ]
  },
  {
   "cell_type": "code",
   "execution_count": null,
   "id": "a1310779",
   "metadata": {},
   "outputs": [],
   "source": []
  },
  {
   "cell_type": "markdown",
   "id": "ad9396b7",
   "metadata": {},
   "source": [
    "## Data Analysis\n",
    "### Exploratory Data Analysis (EDA)"
   ]
  },
  {
   "cell_type": "code",
   "execution_count": null,
   "id": "a94896d0",
   "metadata": {},
   "outputs": [],
   "source": []
  },
  {
   "cell_type": "markdown",
   "id": "f00764ef",
   "metadata": {},
   "source": [
    "### Q1: Which departments have the highest potential for collaboration?\n",
    "**a) Based on the number of topics shared between them.**"
   ]
  },
  {
   "cell_type": "code",
   "execution_count": null,
   "id": "437ac8dc",
   "metadata": {},
   "outputs": [],
   "source": []
  },
  {
   "cell_type": "markdown",
   "id": "1ed3c468",
   "metadata": {},
   "source": [
    "**b) Based on the number of professors that share those interests.**"
   ]
  },
  {
   "cell_type": "code",
   "execution_count": null,
   "id": "0d232013",
   "metadata": {},
   "outputs": [],
   "source": []
  },
  {
   "cell_type": "markdown",
   "id": "41cd035f",
   "metadata": {},
   "source": [
    "### Q2: Which topics have the most diverse backgrounds of professors interested in it?"
   ]
  },
  {
   "cell_type": "code",
   "execution_count": null,
   "id": "9e3fcefd",
   "metadata": {},
   "outputs": [],
   "source": []
  },
  {
   "cell_type": "markdown",
   "id": "55920618",
   "metadata": {},
   "source": [
    "### Q3: Descriptives"
   ]
  },
  {
   "cell_type": "markdown",
   "id": "b9d3c899",
   "metadata": {},
   "source": [
    "**Which topics are the most popular across all department (top 10)**"
   ]
  },
  {
   "cell_type": "code",
   "execution_count": null,
   "id": "e0d3ee1d",
   "metadata": {},
   "outputs": [],
   "source": []
  },
  {
   "cell_type": "markdown",
   "id": "c72170ab",
   "metadata": {},
   "source": [
    "**Which topics are the most popular within each department (top 5)**"
   ]
  },
  {
   "cell_type": "code",
   "execution_count": null,
   "id": "0dcb6824",
   "metadata": {},
   "outputs": [],
   "source": []
  },
  {
   "cell_type": "markdown",
   "id": "5b0bcc64",
   "metadata": {},
   "source": [
    "## Conclusion\n",
    "\n",
    "### Limitations and Future Opportunities\n",
    "First of all, as mentioned, we only picked 8 departments to work with while there are 29 departments and institutes in total. If our process was applied to all the departments, a much bigger number of shared interest could be found and a deeper analysis could be conducted. \n",
    "\n",
    "To measure shared research interests, we checked the exact string matches of the “key expertise” variable. However, this may not be the only way to do it. Alternative ways to measure shared interests could be applying some Natural Language Processing methods on the variables. Some example methods to modify the words into a more standardised form could be tokenisation, stemming and lemmatisation. Furthermore, more advanced techniques such as word embeddings could be applied. This method uses neural networds to capture the semantic relationship between the variables and classifies the texts according to those relationships. \n",
    "\n",
    "In some of the departments, there are a big amount of missing values for key expertise of professors because they were not available in their websites. This situation might have caused the answers to our research questions to be partly inaccurate. To further improve it, the “modules” variables could also be taken into account during the analysis. The relationships between the key expertise and the modules that the professor is teaching could be useful assuming that the professors should be interested and knowledgable about a topic that they are teaching. Another variable which would really help while identifying professors’ research interests is their publications’ titles. \n",
    "\n",
    "Overall, although this project gave useful results, it has a significant potential for development. \n",
    "\n",
    "### References"
   ]
  }
 ],
 "metadata": {
  "kernelspec": {
   "display_name": "Python 3 (ipykernel)",
   "language": "python",
   "name": "python3"
  },
  "language_info": {
   "codemirror_mode": {
    "name": "ipython",
    "version": 3
   },
   "file_extension": ".py",
   "mimetype": "text/x-python",
   "name": "python",
   "nbconvert_exporter": "python",
   "pygments_lexer": "ipython3",
   "version": "3.7.1"
  }
 },
 "nbformat": 4,
 "nbformat_minor": 5
}
